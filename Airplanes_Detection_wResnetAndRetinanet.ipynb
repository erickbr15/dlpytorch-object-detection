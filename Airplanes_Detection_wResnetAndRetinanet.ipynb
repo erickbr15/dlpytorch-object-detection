{
  "nbformat": 4,
  "nbformat_minor": 0,
  "metadata": {
    "colab": {
      "provenance": [],
      "gpuType": "T4"
    },
    "kernelspec": {
      "name": "python3",
      "display_name": "Python 3"
    },
    "language_info": {
      "name": "python"
    },
    "accelerator": "GPU"
  },
  "cells": [
    {
      "cell_type": "code",
      "execution_count": 1,
      "metadata": {
        "colab": {
          "base_uri": "https://localhost:8080/"
        },
        "id": "FQtVvXOY48jM",
        "outputId": "eac10750-7cbd-4a0f-cd1a-5ba3a9c7d61c"
      },
      "outputs": [
        {
          "output_type": "stream",
          "name": "stdout",
          "text": [
            "Mounted at /content/drive\n"
          ]
        }
      ],
      "source": [
        "from google.colab import drive\n",
        "drive.mount('/content/drive')"
      ]
    },
    {
      "cell_type": "code",
      "source": [
        "import os\n",
        "import pandas as pd\n",
        "import numpy as np\n",
        "import torch\n",
        "from torch.utils.data import Dataset, DataLoader\n",
        "from PIL import Image\n",
        "import matplotlib.pyplot as plt"
      ],
      "metadata": {
        "id": "ZVwDBWta5FAP"
      },
      "execution_count": 2,
      "outputs": []
    },
    {
      "cell_type": "code",
      "source": [
        "from torch.utils.data import Dataset\n",
        "from torchvision import transforms\n",
        "\n",
        "class AirplanesDataset(Dataset):\n",
        "    def __init__(self, csv_file, img_dir, num_samples=None, transform=None):\n",
        "        \"\"\"\n",
        "        Args:\n",
        "            csv_file (string): Path to the csv file with annotations.\n",
        "            img_dir (string): Directory with all the images.\n",
        "            num_samples (int, optional): Number of samples to take from the dataset.\n",
        "            transform (callable, optional): Optional transform to be applied on a sample.\n",
        "        \"\"\"\n",
        "        self.list_of_images = pd.read_csv(csv_file)\n",
        "        self.images_directory = img_dir\n",
        "\n",
        "        if num_samples is not None:\n",
        "            self.list_of_images = self.list_of_images.head(num_samples)\n",
        "\n",
        "        # If no transform is specified, we initialize it to resize and convert image to tensor\n",
        "        if transform is None:\n",
        "            self.transform = transforms.Compose([\n",
        "                transforms.Resize((224, 224)),\n",
        "                transforms.ToTensor()\n",
        "            ])\n",
        "        else:\n",
        "            self.transform = transform\n",
        "\n",
        "    def __len__(self):\n",
        "        return len(self.list_of_images)\n",
        "\n",
        "    def __getitem__(self, idx):\n",
        "      image_path = os.path.join(self.images_directory, self.list_of_images.iloc[idx, 0])\n",
        "\n",
        "      image = Image.open(image_path).convert(\"RGB\")\n",
        "\n",
        "      if self.transform:\n",
        "          image = self.transform(image)\n",
        "\n",
        "      bbox = np.array(self.list_of_images.iloc[idx, 1:5].values)\n",
        "      bbox = bbox.astype(np.float32)\n",
        "      bbox = torch.tensor(bbox, dtype=torch.float32)\n",
        "      bbox = bbox.unsqueeze(0)\n",
        "\n",
        "      return image, bbox\n"
      ],
      "metadata": {
        "id": "kgSw9-5LBSUf"
      },
      "execution_count": 3,
      "outputs": []
    },
    {
      "cell_type": "code",
      "source": [
        "import torchvision.transforms as transforms\n",
        "\n",
        "dataset_path = '/content/drive/MyDrive/Colab Notebooks/dl/airplanes-dataset'\n",
        "\n",
        "csv_file_path = os.path.join(dataset_path, 'airplanes.csv')\n",
        "image_directory = os.path.join(dataset_path, 'images')\n",
        "\n",
        "transformations = transforms.Compose([\n",
        "    transforms.Resize((224, 224)),\n",
        "    transforms.ToTensor(),\n",
        "])\n",
        "\n",
        "dataset = AirplanesDataset(csv_file=csv_file_path, img_dir=image_directory, num_samples=100, transform=transformations)\n",
        "\n",
        "image, target = dataset[0]\n",
        "print(image.shape, target)"
      ],
      "metadata": {
        "id": "PcLNzp1BLceO",
        "colab": {
          "base_uri": "https://localhost:8080/"
        },
        "outputId": "c473aa54-3d59-43a8-c453-84d65e795817"
      },
      "execution_count": 4,
      "outputs": [
        {
          "output_type": "stream",
          "name": "stdout",
          "text": [
            "torch.Size([3, 224, 224]) tensor([[ 59.,  35., 342., 153.]])\n"
          ]
        }
      ]
    },
    {
      "cell_type": "code",
      "source": [
        "import torch\n",
        "import torch.nn as nn\n",
        "from torchvision.models import resnet50\n",
        "from torchvision.models.resnet import ResNet50_Weights\n",
        "\n",
        "class BBoxRegressor(nn.Module):\n",
        "    def __init__(self):\n",
        "        super(BBoxRegressor, self).__init__()\n",
        "        weights = ResNet50_Weights.DEFAULT\n",
        "        backbone = resnet50(weights=weights)\n",
        "        self.features = nn.Sequential(*list(backbone.children())[:-2])\n",
        "\n",
        "        # Pooling para reducir las dimensiones antes de la regresión\n",
        "        self.pool = nn.AdaptiveAvgPool2d((1, 1))\n",
        "\n",
        "        self.bbox_head = nn.Conv2d(2048, 4, kernel_size=1)\n",
        "\n",
        "    def forward(self, x):\n",
        "        x = self.features(x)\n",
        "        x = self.pool(x)  # Aplicar pooling para reducir a [batch_size, 2048, 1, 1]\n",
        "        bboxes = self.bbox_head(x)  # Esto ahora debería producir [batch_size, 4, 1, 1]\n",
        "        return bboxes.view(x.size(0), 1, 4)  # Cambiar tamaño para coincidir con [batch_size, 1, 4]\n"
      ],
      "metadata": {
        "id": "IIDogz7lM1rx"
      },
      "execution_count": 36,
      "outputs": []
    },
    {
      "cell_type": "code",
      "source": [
        "!pip install torchinfo"
      ],
      "metadata": {
        "colab": {
          "base_uri": "https://localhost:8080/"
        },
        "id": "nRZQ916ngIwN",
        "outputId": "99b152ad-84ba-4b48-96da-ded4d351e013"
      },
      "execution_count": 7,
      "outputs": [
        {
          "output_type": "stream",
          "name": "stdout",
          "text": [
            "Collecting torchinfo\n",
            "  Downloading torchinfo-1.8.0-py3-none-any.whl (23 kB)\n",
            "Installing collected packages: torchinfo\n",
            "Successfully installed torchinfo-1.8.0\n"
          ]
        }
      ]
    },
    {
      "cell_type": "code",
      "source": [
        "from torchinfo import summary\n",
        "\n",
        "input_size = (1, 3, 224, 224)  # Formato (batch_size, channels, height, width)\n",
        "\n",
        "# Generar y mostrar el sumario del modelo\n",
        "model_summary = summary(BBoxRegressor(), input_size=input_size)\n",
        "print(model_summary)"
      ],
      "metadata": {
        "colab": {
          "base_uri": "https://localhost:8080/"
        },
        "id": "IBfisJJL5uZM",
        "outputId": "78b5fbae-04a5-4f87-bdc2-dcbb61a6c924"
      },
      "execution_count": 37,
      "outputs": [
        {
          "output_type": "stream",
          "name": "stdout",
          "text": [
            "===============================================================================================\n",
            "Layer (type:depth-idx)                        Output Shape              Param #\n",
            "===============================================================================================\n",
            "BBoxRegressor                                 [1, 1, 4]                 --\n",
            "├─Sequential: 1-1                             [1, 2048, 7, 7]           --\n",
            "│    └─Conv2d: 2-1                            [1, 64, 112, 112]         9,408\n",
            "│    └─BatchNorm2d: 2-2                       [1, 64, 112, 112]         128\n",
            "│    └─ReLU: 2-3                              [1, 64, 112, 112]         --\n",
            "│    └─MaxPool2d: 2-4                         [1, 64, 56, 56]           --\n",
            "│    └─Sequential: 2-5                        [1, 256, 56, 56]          --\n",
            "│    │    └─Bottleneck: 3-1                   [1, 256, 56, 56]          75,008\n",
            "│    │    └─Bottleneck: 3-2                   [1, 256, 56, 56]          70,400\n",
            "│    │    └─Bottleneck: 3-3                   [1, 256, 56, 56]          70,400\n",
            "│    └─Sequential: 2-6                        [1, 512, 28, 28]          --\n",
            "│    │    └─Bottleneck: 3-4                   [1, 512, 28, 28]          379,392\n",
            "│    │    └─Bottleneck: 3-5                   [1, 512, 28, 28]          280,064\n",
            "│    │    └─Bottleneck: 3-6                   [1, 512, 28, 28]          280,064\n",
            "│    │    └─Bottleneck: 3-7                   [1, 512, 28, 28]          280,064\n",
            "│    └─Sequential: 2-7                        [1, 1024, 14, 14]         --\n",
            "│    │    └─Bottleneck: 3-8                   [1, 1024, 14, 14]         1,512,448\n",
            "│    │    └─Bottleneck: 3-9                   [1, 1024, 14, 14]         1,117,184\n",
            "│    │    └─Bottleneck: 3-10                  [1, 1024, 14, 14]         1,117,184\n",
            "│    │    └─Bottleneck: 3-11                  [1, 1024, 14, 14]         1,117,184\n",
            "│    │    └─Bottleneck: 3-12                  [1, 1024, 14, 14]         1,117,184\n",
            "│    │    └─Bottleneck: 3-13                  [1, 1024, 14, 14]         1,117,184\n",
            "│    └─Sequential: 2-8                        [1, 2048, 7, 7]           --\n",
            "│    │    └─Bottleneck: 3-14                  [1, 2048, 7, 7]           6,039,552\n",
            "│    │    └─Bottleneck: 3-15                  [1, 2048, 7, 7]           4,462,592\n",
            "│    │    └─Bottleneck: 3-16                  [1, 2048, 7, 7]           4,462,592\n",
            "├─AdaptiveAvgPool2d: 1-2                      [1, 2048, 1, 1]           --\n",
            "├─Conv2d: 1-3                                 [1, 4, 1, 1]              8,196\n",
            "===============================================================================================\n",
            "Total params: 23,516,228\n",
            "Trainable params: 23,516,228\n",
            "Non-trainable params: 0\n",
            "Total mult-adds (G): 4.09\n",
            "===============================================================================================\n",
            "Input size (MB): 0.60\n",
            "Forward/backward pass size (MB): 177.82\n",
            "Params size (MB): 94.06\n",
            "Estimated Total Size (MB): 272.49\n",
            "===============================================================================================\n"
          ]
        }
      ]
    },
    {
      "cell_type": "code",
      "source": [
        "import torch\n",
        "import time\n",
        "from torchvision.ops import generalized_box_iou_loss\n",
        "\n",
        "def fit(model, train_loader, val_loader, epochs, optimizer, checkpoint_path):\n",
        "    device = torch.device(\"cuda\" if torch.cuda.is_available() else \"cpu\")\n",
        "    model.to(device)\n",
        "    best_val_loss = float('inf')\n",
        "\n",
        "    for epoch in range(epochs):\n",
        "        model.train()\n",
        "        train_loss = 0.0\n",
        "        start_time = time.time()\n",
        "\n",
        "        for i, (inputs, targets) in enumerate(train_loader):\n",
        "            inputs = inputs.to(device)\n",
        "            targets = targets.to(device)  # Assuming targets are already [batch_size, 4]\n",
        "\n",
        "            optimizer.zero_grad()\n",
        "            outputs = model(inputs)\n",
        "\n",
        "            # Calculate IOU loss, and ensure it is reduced to a single scalar\n",
        "            loss = generalized_box_iou_loss(outputs, targets)\n",
        "            loss = loss.mean()  # Ensure the loss is a scalar by taking the mean\n",
        "\n",
        "            loss.backward()\n",
        "            train_loss += loss.item()\n",
        "            optimizer.step()\n",
        "\n",
        "            # Print loss every 10 batches\n",
        "            if (i + 1) % 10 == 0:\n",
        "                print(f'Epoch {epoch + 1}, Batch {i + 1}/{len(train_loader)}, Train Loss: {loss.item():.4f}')\n",
        "\n",
        "        avg_train_loss = train_loss / len(train_loader)\n",
        "        print(f'Epoch {epoch + 1}, Average Training Loss: {avg_train_loss:.4f}, Time: {time.time() - start_time:.2f}s')\n",
        "\n",
        "        model.eval()\n",
        "        val_loss = 0.0\n",
        "        with torch.no_grad():\n",
        "            for inputs, targets in val_loader:\n",
        "                inputs = inputs.to(device)\n",
        "                targets = targets.to(device)\n",
        "\n",
        "                outputs = model(inputs)\n",
        "                batch_loss = generalized_box_iou_loss(outputs, targets)\n",
        "                batch_loss = batch_loss.mean()  # Ensure the loss is a scalar\n",
        "\n",
        "                val_loss += batch_loss.item()\n",
        "\n",
        "        avg_val_loss = val_loss / len(val_loader)\n",
        "        print(f'Epoch {epoch + 1}, Average Validation Loss: {avg_val_loss:.4f}')\n",
        "\n",
        "        if avg_val_loss < best_val_loss:\n",
        "            best_val_loss = avg_val_loss\n",
        "            torch.save(model.state_dict(), checkpoint_path)\n",
        "            print(f'New best model saved with avg_val_loss: {best_val_loss:.4f}')\n",
        "\n",
        "    return avg_train_loss, avg_val_loss\n"
      ],
      "metadata": {
        "id": "VxlY6VLtVTAY"
      },
      "execution_count": 43,
      "outputs": []
    },
    {
      "cell_type": "code",
      "source": [
        "from torch.utils.data import random_split\n",
        "\n",
        "dataset_size = len(dataset)\n",
        "train_size = int(0.8 * dataset_size)\n",
        "val_size = int(0.15 * dataset_size)\n",
        "test_size = dataset_size - train_size - val_size\n",
        "\n",
        "train_dataset, val_dataset, test_dataset = random_split(dataset, [train_size, val_size, test_size])\n",
        "\n",
        "print(f\"Dataset size: {dataset_size}\")\n",
        "print(f\"Train size: {len(train_dataset)}\")\n",
        "print(f\"Validation size: {len(val_dataset)}\")\n",
        "print(f\"Test size: {len(test_dataset)}\")"
      ],
      "metadata": {
        "id": "voFYHXCIU0Zu",
        "colab": {
          "base_uri": "https://localhost:8080/"
        },
        "outputId": "b129258a-1a15-4c8c-d10c-739368b4c7b6"
      },
      "execution_count": 44,
      "outputs": [
        {
          "output_type": "stream",
          "name": "stdout",
          "text": [
            "Dataset size: 100\n",
            "Train size: 80\n",
            "Validation size: 15\n",
            "Test size: 5\n"
          ]
        }
      ]
    },
    {
      "cell_type": "code",
      "source": [
        "from torch.utils.data import DataLoader\n",
        "\n",
        "batch_size = 10\n",
        "\n",
        "train_loader = DataLoader(train_dataset, batch_size=batch_size, shuffle=True)\n",
        "val_loader = DataLoader(val_dataset, batch_size=batch_size, shuffle=False)\n",
        "test_loader = DataLoader(test_dataset, batch_size=batch_size, shuffle=False)"
      ],
      "metadata": {
        "id": "RgcbYvytVUFg"
      },
      "execution_count": 45,
      "outputs": []
    },
    {
      "cell_type": "code",
      "source": [
        "import torch\n",
        "from torch.utils.data import DataLoader\n",
        "import torch.optim as optim\n",
        "import torch.nn.functional as F\n",
        "from torchvision.ops import generalized_box_iou_loss\n",
        "\n",
        "model = BBoxRegressor()\n",
        "optimizer = optim.Adam(model.parameters(), lr=0.001)\n",
        "\n",
        "\n",
        "checkpoint_path = \"/content/drive/MyDrive/Colab Notebooks/dl/airplanes_model/airplanes-regression-model\"\n",
        "\n",
        "train_losses, val_losses = fit(model, train_loader, val_loader, epochs=10, optimizer=optimizer, checkpoint_path=checkpoint_path)"
      ],
      "metadata": {
        "colab": {
          "base_uri": "https://localhost:8080/"
        },
        "id": "5fuanXpwVnvd",
        "outputId": "f72eeeb1-4462-442c-be9c-378d30e03349"
      },
      "execution_count": 46,
      "outputs": [
        {
          "output_type": "stream",
          "name": "stdout",
          "text": [
            "Epoch 1, Average Training Loss: 1.3159, Time: 14.02s\n",
            "Epoch 1, Average Validation Loss: -5.2191\n",
            "New best model saved with avg_val_loss: -5.2191\n",
            "Epoch 2, Average Training Loss: 1.1328, Time: 1.47s\n",
            "Epoch 2, Average Validation Loss: 1.1264\n",
            "Epoch 3, Average Training Loss: 0.3271, Time: 1.10s\n",
            "Epoch 3, Average Validation Loss: 1.3221\n",
            "Epoch 4, Average Training Loss: -2.1500, Time: 1.16s\n",
            "Epoch 4, Average Validation Loss: -2457.0610\n",
            "New best model saved with avg_val_loss: -2457.0610\n",
            "Epoch 5, Average Training Loss: -6.6352, Time: 1.63s\n",
            "Epoch 5, Average Validation Loss: -1806.8521\n",
            "Epoch 6, Average Training Loss: -17.3368, Time: 1.12s\n",
            "Epoch 6, Average Validation Loss: 1.3224\n",
            "Epoch 7, Average Training Loss: -22.8788, Time: 1.11s\n",
            "Epoch 7, Average Validation Loss: -2599.8606\n",
            "New best model saved with avg_val_loss: -2599.8606\n",
            "Epoch 8, Average Training Loss: -37.1962, Time: 1.48s\n",
            "Epoch 8, Average Validation Loss: 1.3180\n",
            "Epoch 9, Average Training Loss: -59.0236, Time: 1.15s\n",
            "Epoch 9, Average Validation Loss: -3299660.3750\n",
            "New best model saved with avg_val_loss: -3299660.3750\n",
            "Epoch 10, Average Training Loss: -84.0170, Time: 1.49s\n",
            "Epoch 10, Average Validation Loss: -17633288.0000\n",
            "New best model saved with avg_val_loss: -17633288.0000\n"
          ]
        }
      ]
    },
    {
      "cell_type": "code",
      "source": [
        "import matplotlib.pyplot as plt\n",
        "\n",
        "# Graficar las pérdidas\n",
        "plt.figure(figsize=(10, 5))\n",
        "plt.plot(train_losses, label='Training loss')\n",
        "plt.plot(val_losses, label='Validation loss')\n",
        "plt.title(\"Training and Validation Loss\")\n",
        "plt.xlabel(\"Epochs\")\n",
        "plt.ylabel(\"Loss\")\n",
        "plt.legend()\n",
        "plt.show()"
      ],
      "metadata": {
        "colab": {
          "base_uri": "https://localhost:8080/",
          "height": 487
        },
        "id": "SJ6USc67jK9I",
        "outputId": "9d43cae8-dd5b-4418-d832-e078df2cb578"
      },
      "execution_count": 47,
      "outputs": [
        {
          "output_type": "display_data",
          "data": {
            "text/plain": [
              "<Figure size 1000x500 with 1 Axes>"
            ],
            "image/png": "[encoded data removed]"
          },
          "metadata": {}
        }
      ]
    },
    {
      "cell_type": "code",
      "source": [
        "from torchvision import ops\n",
        "\n",
        "def test_model(model, test_loader):\n",
        "    device = torch.device(\"cuda\" if torch.cuda.is_available() else \"cpu\")\n",
        "    model.to(device)\n",
        "    model.eval()\n",
        "\n",
        "    ious = []\n",
        "    with torch.no_grad():\n",
        "        for inputs, targets in test_loader:\n",
        "            inputs = inputs.to(device)\n",
        "            targets = targets.to(device)\n",
        "\n",
        "            outputs = model(inputs)\n",
        "\n",
        "            print(outputs.shape)\n",
        "            print(targets.shape)\n",
        "\n",
        "            for output, target in zip(outputs, targets):\n",
        "                iou = ops.box_iou(output, target)\n",
        "                ious.append(iou)\n",
        "\n",
        "    avg_iou = sum(ious) / len(ious)\n",
        "    return avg_iou\n",
        "\n",
        "\n",
        "average_iou = test_model(model, test_loader)\n",
        "\n",
        "print(f\"Average IoU on Test Set: {average_iou.cpu().numpy()[0][0]}\")"
      ],
      "metadata": {
        "colab": {
          "base_uri": "https://localhost:8080/"
        },
        "id": "XlHpkchEYPMn",
        "outputId": "d82f2102-d5e3-4a05-9fcb-762afff3ec35"
      },
      "execution_count": 49,
      "outputs": [
        {
          "output_type": "stream",
          "name": "stdout",
          "text": [
            "torch.Size([5, 1, 4])\n",
            "torch.Size([5, 1, 4])\n",
            "Average IoU on Test Set: 0.0\n"
          ]
        }
      ]
    }
  ]
}