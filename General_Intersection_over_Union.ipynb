{
  "nbformat": 4,
  "nbformat_minor": 0,
  "metadata": {
    "colab": {
      "provenance": []
    },
    "kernelspec": {
      "name": "python3",
      "display_name": "Python 3"
    },
    "language_info": {
      "name": "python"
    }
  },
  "cells": [
    {
      "cell_type": "markdown",
      "source": [
        "#Intersection over Union (IoU)\n",
        "IoU is a metric used in computer vision to measure the accuracy of an object detector on a particular dataset. It is defined as the area of overlap between the predicted bounding box and the ground truth bounding box, divided by the area of union of these two boxes:\n",
        "\n",
        "IoU = Area of Overlap / Area of Union"
      ],
      "metadata": {
        "id": "rVePfNpCYc-6"
      }
    },
    {
      "cell_type": "code",
      "execution_count": 1,
      "metadata": {
        "id": "LQ6E9Fg2vFwQ"
      },
      "outputs": [],
      "source": [
        "#Implementation from:\n",
        "#https://learnopencv.com/intersection-over-union-iou-in-object-detection-and-segmentation/\n",
        "\n",
        "def get_iou(ground_truth, pred):\n",
        "    # coordinates of the area of intersection.\n",
        "    ix1 = np.maximum(ground_truth[0], pred[0])\n",
        "    iy1 = np.maximum(ground_truth[1], pred[1])\n",
        "    ix2 = np.minimum(ground_truth[2], pred[2])\n",
        "    iy2 = np.minimum(ground_truth[3], pred[3])\n",
        "\n",
        "    # Intersection height and width.\n",
        "    i_height = np.maximum(iy2 - iy1 + 1, np.array(0.))\n",
        "    i_width = np.maximum(ix2 - ix1 + 1, np.array(0.))\n",
        "\n",
        "    area_of_intersection = i_height * i_width\n",
        "\n",
        "    # Ground Truth dimensions.\n",
        "    gt_height = ground_truth[3] - ground_truth[1] + 1\n",
        "    gt_width = ground_truth[2] - ground_truth[0] + 1\n",
        "\n",
        "    # Prediction dimensions.\n",
        "    pd_height = pred[3] - pred[1] + 1\n",
        "    pd_width = pred[2] - pred[0] + 1\n",
        "\n",
        "    area_of_union = gt_height * gt_width + pd_height * pd_width - area_of_intersection\n",
        "\n",
        "    iou = area_of_intersection / area_of_union\n",
        "\n",
        "    return iou"
      ]
    },
    {
      "cell_type": "code",
      "source": [
        "import numpy as np\n",
        "import matplotlib.pyplot as plt\n",
        "import matplotlib.patches as patches\n",
        "\n",
        "ground_truth_bbox = np.array([1202, 123, 1650, 868], dtype=np.float32)\n",
        "prediction_bbox = np.array([1162.0001, 92.0021, 1619.9832, 694.0033], dtype=np.float32)\n",
        "\n",
        "fig, ax = plt.subplots(1)\n",
        "\n",
        "ground_truth_rect = patches.Rectangle((ground_truth_bbox[0], ground_truth_bbox[1]),\n",
        "                                      ground_truth_bbox[2] - ground_truth_bbox[0],\n",
        "                                      ground_truth_bbox[3] - ground_truth_bbox[1],\n",
        "                                      linewidth=2, edgecolor='green', facecolor='none', label='Ground Truth')\n",
        "ax.add_patch(ground_truth_rect)\n",
        "\n",
        "prediction_rect = patches.Rectangle((prediction_bbox[0], prediction_bbox[1]),\n",
        "                                    prediction_bbox[2] - prediction_bbox[0],\n",
        "                                    prediction_bbox[3] - prediction_bbox[1],\n",
        "                                    linewidth=2, edgecolor='red', facecolor='none', label='Prediction')\n",
        "ax.add_patch(prediction_rect)\n",
        "\n",
        "\n",
        "ax.set_xlim(1000, 1700)\n",
        "ax.set_ylim(50, 1000)\n",
        "\n",
        "plt.xlabel('X coordinate')\n",
        "plt.ylabel('Y coordinate')\n",
        "plt.legend()\n",
        "\n",
        "plt.show()"
      ],
      "metadata": {
        "colab": {
          "base_uri": "https://localhost:8080/",
          "height": 455
        },
        "id": "OLIQskxTvZ8U",
        "outputId": "3bc938a2-6674-42a7-9d2f-d7d88a825aaf"
      },
      "execution_count": 2,
      "outputs": [
        {
          "output_type": "display_data",
          "data": {
            "text/plain": [
              "<Figure size 640x480 with 1 Axes>"
            ],
            "image/png": "[encoded data removed]"
          },
          "metadata": {}
        }
      ]
    },
    {
      "cell_type": "code",
      "source": [
        "iou = get_iou(ground_truth_bbox, prediction_bbox)\n",
        "print('IOU: ', iou)"
      ],
      "metadata": {
        "colab": {
          "base_uri": "https://localhost:8080/"
        },
        "id": "4VZrWc3cviP9",
        "outputId": "a18534ef-15a9-4188-cfe6-1a15ae41d84d"
      },
      "execution_count": 3,
      "outputs": [
        {
          "output_type": "stream",
          "name": "stdout",
          "text": [
            "IOU:  0.6441399913136432\n"
          ]
        }
      ]
    },
    {
      "cell_type": "markdown",
      "source": [
        "#Generalized Intersection over Union (GIoU)\n",
        "\n",
        "GIoU is an extension of the IoU metric, designed to offer a more accurate measure of the spatial relationship between two bounding boxes. It takes into account the cases where IoU is 0 (non-overlapping bounding boxes). GIoU is defined as:\n",
        "\n",
        "GIoU = IoU - (Area of the Smallest Enclosing Box - Area of Union) / Area of the Smallest Enclosing Box"
      ],
      "metadata": {
        "id": "KUYQnnmVZMAi"
      }
    },
    {
      "cell_type": "code",
      "source": [
        "# Implementation from: https://github.com/facebookresearch/fvcore/blob/bfff2ef/fvcore/nn/giou_loss.py\n",
        "# Copyright (c) Facebook, Inc. and its affiliates. All Rights Reserved.\n",
        "\n",
        "import torch\n",
        "\n",
        "\n",
        "def giou_loss(\n",
        "    boxes1: torch.Tensor,\n",
        "    boxes2: torch.Tensor,\n",
        "    reduction: str = \"none\",\n",
        "    eps: float = 1e-7,\n",
        ") -> torch.Tensor:\n",
        "    \"\"\"\n",
        "    Generalized Intersection over Union Loss (Hamid Rezatofighi et. al)\n",
        "    https://arxiv.org/abs/1902.09630\n",
        "\n",
        "    Gradient-friendly IoU loss with an additional penalty that is non-zero when the\n",
        "    boxes do not overlap and scales with the size of their smallest enclosing box.\n",
        "    This loss is symmetric, so the boxes1 and boxes2 arguments are interchangeable.\n",
        "\n",
        "    Args:\n",
        "        boxes1, boxes2 (Tensor): box locations in XYXY format, shape (N, 4) or (4,).\n",
        "        reduction: 'none' | 'mean' | 'sum'\n",
        "                 'none': No reduction will be applied to the output.\n",
        "                 'mean': The output will be averaged.\n",
        "                 'sum': The output will be summed.\n",
        "        eps (float): small number to prevent division by zero\n",
        "    \"\"\"\n",
        "\n",
        "    x1, y1, x2, y2 = boxes1.unbind(dim=-1)\n",
        "    x1g, y1g, x2g, y2g = boxes2.unbind(dim=-1)\n",
        "\n",
        "    assert (x2 >= x1).all(), \"bad box: x1 larger than x2\"\n",
        "    assert (y2 >= y1).all(), \"bad box: y1 larger than y2\"\n",
        "\n",
        "    # Intersection keypoints\n",
        "    xkis1 = torch.max(x1, x1g)\n",
        "    ykis1 = torch.max(y1, y1g)\n",
        "    xkis2 = torch.min(x2, x2g)\n",
        "    ykis2 = torch.min(y2, y2g)\n",
        "\n",
        "    intsctk = torch.zeros_like(x1)\n",
        "    mask = (ykis2 > ykis1) & (xkis2 > xkis1)\n",
        "    intsctk[mask] = (xkis2[mask] - xkis1[mask]) * (ykis2[mask] - ykis1[mask])\n",
        "    unionk = (x2 - x1) * (y2 - y1) + (x2g - x1g) * (y2g - y1g) - intsctk\n",
        "    iouk = intsctk / (unionk + eps)\n",
        "\n",
        "    # smallest enclosing box\n",
        "    xc1 = torch.min(x1, x1g)\n",
        "    yc1 = torch.min(y1, y1g)\n",
        "    xc2 = torch.max(x2, x2g)\n",
        "    yc2 = torch.max(y2, y2g)\n",
        "\n",
        "    area_c = (xc2 - xc1) * (yc2 - yc1)\n",
        "    miouk = iouk - ((area_c - unionk) / (area_c + eps))\n",
        "\n",
        "    loss = 1 - miouk\n",
        "\n",
        "    if reduction == \"mean\":\n",
        "        loss = loss.mean() if loss.numel() > 0 else 0.0 * loss.sum()\n",
        "    elif reduction == \"sum\":\n",
        "        loss = loss.sum()\n",
        "\n",
        "    return loss"
      ],
      "metadata": {
        "id": "yc886ZFB1BuB"
      },
      "execution_count": 4,
      "outputs": []
    },
    {
      "cell_type": "markdown",
      "source": [
        "#References\n",
        "\n",
        "Generalized Intersection over Union. A Metric and A Loss for Bounding Box Regression [chrome-extension://efaidnbmnnnibpcajpcglclefindmkaj/https://giou.stanford.edu/GIoU.pdf]"
      ],
      "metadata": {
        "id": "dcufUUCtZAA9"
      }
    }
  ]
}